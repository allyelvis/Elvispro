{
  "nbformat": 4,
  "nbformat_minor": 0,
  "metadata": {
    "colab": {
      "provenance": [],
      "authorship_tag": "ABX9TyMzE1zavntkTmWbbwFkEM0X",
      "include_colab_link": true
    },
    "kernelspec": {
      "name": "python3",
      "display_name": "Python 3"
    },
    "language_info": {
      "name": "python"
    }
  },
  "cells": [
    {
      "cell_type": "markdown",
      "metadata": {
        "id": "view-in-github",
        "colab_type": "text"
      },
      "source": [
        "<a href=\"https://colab.research.google.com/github/allyelvis/Elvispro/blob/master/Copy_of_hotelmanagement.ipynb\" target=\"_parent\"><img src=\"https://colab.research.google.com/assets/colab-badge.svg\" alt=\"Open In Colab\"/></a>"
      ]
    },
    {
      "cell_type": "code",
      "execution_count": null,
      "metadata": {
        "id": "L1_2J7Tsyin3"
      },
      "outputs": [],
      "source": []
    },
    {
      "cell_type": "code",
      "source": [
        "# prompt: hotel management using php\n",
        "\n",
        "// PHP code for hotel management system\n",
        "\n",
        "// Database connection\n",
        "$servername = \"localhost\";\n",
        "$username = \"username\";\n",
        "$password = \"password\";\n",
        "$dbname = \"hotel_management\";\n",
        "\n",
        "$conn = new mysqli($servername, $username, $password, $dbname);\n",
        "\n",
        "// Check connection\n",
        "if ($conn->connect_error) {\n",
        "  die(\"Connection failed: \" . $conn->connect_error);\n",
        "}\n",
        "sql = \"\"\"CREATE TABLE guests (\n",
        "  id INT(6) UNSIGNED AUTO_INCREMENT PRIMARY KEY,\n",
        "  name VARCHAR(30) NOT NULL,\n",
        "  email VARCHAR(50)\n",
        ");\n",
        "\"\"\"\n",
        "  address VARCHAR(50),\n",
        "  phone VARCHAR(15)\"\n",
        ");\n",
        "\n",
        "if ($conn->query($sql) === TRUE):\n",
        "  echo \"Table guests created successfully\";\n",
        "} else {\n",
        "  echo \"Error creating table: \" . $conn->error;\n",
        "}\n",
        "\n",
        "// Create a table for rooms\n",
        "$sql = \"CREATE TABLE rooms (\n",
        "  id INT(6) UNSIGNED AUTO_INCREMENT PRIMARY KEY,\n",
        "  room_number VARCHAR(10) NOT NULL,\n",
        "  room_type VARCHAR(30) NOT NULL,\n",
        "  price DECIMAL(10,2) NOT NULL,\n",
        "  availability BOOLEAN NOT NULL\n",
        ")\";\n",
        "\n",
        "if ($conn->query($sql) === TRUE) {\n",
        "  echo \"Table rooms created successfully\";\n",
        "} else {\n",
        "  echo \"Error creating table: \" . $conn->error;\n",
        "}\n",
        "\n",
        "// Create a table for reservations\n",
        "$sql = \"CREATE TABLE reservations (\n",
        "  id INT(6) UNSIGNED AUTO_INCREMENT PRIMARY KEY,\n",
        "  guest_id INT(6) UNSIGNED NOT NULL,\n",
        "  room_id INT(6) UNSIGNED NOT NULL,\n",
        "  check_in_date DATE NOT NULL,\n",
        "  check_out_date DATE NOT NULL,\n",
        "  total_price DECIMAL(10,2) NOT NULL\n",
        ")\";\n",
        "\n",
        "if ($conn->query($sql) === TRUE) {\n",
        "  echo \"Table reservations created successfully\";\n",
        "} else {\n",
        "  echo \"Error creating table: \" . $conn->error;\n",
        "}\n",
        "\n",
        "// Insert data into the tables\n",
        "$sql = \"INSERT INTO guests (name, email, address, phone)\n",
        "VALUES ('John Doe', 'john.doe@example.com', '123 Main Street', '555-123-4567')\";\n",
        "\n",
        "if ($conn->query($sql) === TRUE) {\n",
        "  echo \"New record created successfully\";\n",
        "} else {\n",
        "  echo \"Error: \" . $sql . \"<br>\" . $conn->error;\n",
        "}\n",
        "\n",
        "// Close the connection\n",
        "$conn->close();\n"
      ],
      "metadata": {
        "colab": {
          "base_uri": "https://localhost:8080/",
          "height": 141
        },
        "id": "zmbCVT-QyoGu",
        "outputId": "e865f652-25c6-4582-9ebd-8fbcc2f1544a"
      },
      "execution_count": null,
      "outputs": [
        {
          "output_type": "error",
          "ename": "SyntaxError",
          "evalue": "unterminated string literal (detected at line 24) (<ipython-input-3-0ecf97bdd619>, line 24)",
          "traceback": [
            "\u001b[0;36m  File \u001b[0;32m\"<ipython-input-3-0ecf97bdd619>\"\u001b[0;36m, line \u001b[0;32m24\u001b[0m\n\u001b[0;31m    phone VARCHAR(15)\"\u001b[0m\n\u001b[0m                     ^\u001b[0m\n\u001b[0;31mSyntaxError\u001b[0m\u001b[0;31m:\u001b[0m unterminated string literal (detected at line 24)\n"
          ]
        }
      ]
    }
  ]
}